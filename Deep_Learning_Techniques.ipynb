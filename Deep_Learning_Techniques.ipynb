{
  "cells": [
    {
      "cell_type": "markdown",
      "source": [
        "#  Revenue forecast as the foundation for dynamic pricing\n",
        "\n",
        "\n",
        "### Goal : Using Historical data of an Online Pharmacy to predict the revenue by applying **Neural Network**."
      ],
      "metadata": {
        "id": "qggNTAPjAMNN"
      }
    },
    {
      "cell_type": "markdown",
      "source": [
        "We tried to experiment on the dataset using a basic Neural Network model to check if this outperforms a standard Machine Learning model."
      ],
      "metadata": {
        "id": "MvoDXfb4DIed"
      }
    },
    {
      "cell_type": "markdown",
      "source": [
        "## Import Libraries and Dataset"
      ],
      "metadata": {
        "id": "SwTb7C4RATlC"
      }
    },
    {
      "cell_type": "code",
      "source": [
        "import pandas as pd\n",
        "import numpy as np\n",
        "from sklearn.model_selection import cross_validate, cross_val_predict\n",
        "from sklearn.model_selection import train_test_split, GridSearchCV\n",
        "from sklearn.pipeline import make_pipeline\n",
        "import seaborn as sns\n",
        "from sklearn.metrics import r2_score\n",
        "from sklearn.impute import KNNImputer"
      ],
      "metadata": {
        "id": "Q987Re1vMzHp"
      },
      "execution_count": null,
      "outputs": []
    },
    {
      "cell_type": "code",
      "source": [
        "train_df = pd.read_csv('Dataset.csv')\n",
        "items_df = pd.read_csv('items.csv', sep=\"|\")"
      ],
      "metadata": {
        "id": "RV1O4dBYM95I"
      },
      "execution_count": null,
      "outputs": []
    },
    {
      "cell_type": "code",
      "source": [
        "train_df = train_df.merge(items_df, on='pid',how='left')"
      ],
      "metadata": {
        "id": "klCeBDEcNTQG"
      },
      "execution_count": null,
      "outputs": []
    },
    {
      "cell_type": "markdown",
      "source": [
        "## Data Preprocessing"
      ],
      "metadata": {
        "id": "8owT078WAhmd"
      }
    },
    {
      "cell_type": "code",
      "source": [
        "train_df['campaignIndex'] = train_df['campaignIndex'].fillna('UNKNOWN')\n",
        "train_df['category'] = train_df['category'].fillna('UNKNOWN')\n",
        "train_df['pharmForm'] = train_df['pharmForm'].fillna('UNKNOWN')\n",
        "\n",
        "\n",
        "cols = ['pid', 'lineID', 'day']  \n",
        "\n",
        "for col_name in cols:\n",
        "    train_df.drop(col_name, inplace=True, axis=1)\n",
        "\n",
        "cols = ['group', 'content', 'unit', 'manufacturer', 'pharmForm', 'category']\n",
        "for col_name in cols:\n",
        "  # grouping by frequency\n",
        "  fq = train_df.groupby(col_name).size()/len(train_df)\n",
        "  # mapping values to dataframe\n",
        "  train_df.loc[:, \"{}_freq_encoded\".format(col_name)] = train_df[col_name].map(fq)\n",
        "  # drop original column.\n",
        "  train_df = train_df.drop([col_name], axis=1)\n",
        "train_df.head(10)"
      ],
      "metadata": {
        "id": "14CLlw-hNA2m",
        "outputId": "40c65bd2-d437-4823-b696-8e080833037e",
        "colab": {
          "base_uri": "https://localhost:8080/",
          "height": 427
        }
      },
      "execution_count": null,
      "outputs": [
        {
          "output_type": "execute_result",
          "data": {
            "text/plain": [
              "   adFlag  availability  competitorPrice  click  basket  order  price  \\\n",
              "0       0             2            14.60      1       0      0  16.89   \n",
              "1       1             1             8.57      0       1      0   8.75   \n",
              "2       0             1            14.77      0       1      0  16.06   \n",
              "3       1             1             6.59      0       0      1   6.55   \n",
              "4       0             1             4.39      0       0      1   4.14   \n",
              "5       0             1            13.66      0       0      1  10.03   \n",
              "6       1             1             3.03      0       0      1   3.58   \n",
              "7       0             1             8.78      1       0      0   8.75   \n",
              "8       0             1            10.84      1       0      0  12.04   \n",
              "9       1             1             9.12      1       0      0   8.75   \n",
              "\n",
              "   revenue  genericProduct  salesIndex campaignIndex    rrp  \\\n",
              "0     0.00               0          40       UNKNOWN  18.25   \n",
              "1     0.00               1          40             C  18.81   \n",
              "2     0.00               0          53       UNKNOWN  18.48   \n",
              "3     6.55               0          40       UNKNOWN   9.31   \n",
              "4     4.14               0          53       UNKNOWN   8.13   \n",
              "5    10.03               0          52       UNKNOWN  21.60   \n",
              "6     3.58               0          40       UNKNOWN   5.62   \n",
              "7     0.00               0          53       UNKNOWN  11.62   \n",
              "8     0.00               0          53       UNKNOWN  14.19   \n",
              "9     0.00               0          40       UNKNOWN  14.25   \n",
              "\n",
              "   group_freq_encoded  content_freq_encoded  unit_freq_encoded  \\\n",
              "0            0.049838              0.148747           0.349399   \n",
              "1            0.003152              0.148747           0.468656   \n",
              "2            0.003320              0.001388           0.349399   \n",
              "3            0.015847              0.027549           0.174535   \n",
              "4            0.002560              0.000884           0.468656   \n",
              "5            0.003565              0.003845           0.349399   \n",
              "6            0.010595              0.119591           0.174535   \n",
              "7            0.060232              0.120066           0.349399   \n",
              "8            0.060232              0.148747           0.349399   \n",
              "9            0.003628              0.120066           0.174535   \n",
              "\n",
              "   manufacturer_freq_encoded  pharmForm_freq_encoded  category_freq_encoded  \n",
              "0                   0.005196                0.015102               0.003086  \n",
              "1                   0.046873                0.092496               0.028501  \n",
              "2                   0.012399                0.005840               0.003881  \n",
              "3                   0.044391                0.062634               0.022563  \n",
              "4                   0.009547                0.004280               0.001312  \n",
              "5                   0.009547                0.043165               0.002097  \n",
              "6                   0.056759                0.034709               0.023893  \n",
              "7                   0.019879                0.034709               0.013031  \n",
              "8                   0.000324                0.076062               0.013031  \n",
              "9                   0.002569                0.034709               0.023893  "
            ],
            "text/html": [
              "\n",
              "  <div id=\"df-fbc69b1c-2444-4ae5-bc88-c8e6e49bb91c\">\n",
              "    <div class=\"colab-df-container\">\n",
              "      <div>\n",
              "<style scoped>\n",
              "    .dataframe tbody tr th:only-of-type {\n",
              "        vertical-align: middle;\n",
              "    }\n",
              "\n",
              "    .dataframe tbody tr th {\n",
              "        vertical-align: top;\n",
              "    }\n",
              "\n",
              "    .dataframe thead th {\n",
              "        text-align: right;\n",
              "    }\n",
              "</style>\n",
              "<table border=\"1\" class=\"dataframe\">\n",
              "  <thead>\n",
              "    <tr style=\"text-align: right;\">\n",
              "      <th></th>\n",
              "      <th>adFlag</th>\n",
              "      <th>availability</th>\n",
              "      <th>competitorPrice</th>\n",
              "      <th>click</th>\n",
              "      <th>basket</th>\n",
              "      <th>order</th>\n",
              "      <th>price</th>\n",
              "      <th>revenue</th>\n",
              "      <th>genericProduct</th>\n",
              "      <th>salesIndex</th>\n",
              "      <th>campaignIndex</th>\n",
              "      <th>rrp</th>\n",
              "      <th>group_freq_encoded</th>\n",
              "      <th>content_freq_encoded</th>\n",
              "      <th>unit_freq_encoded</th>\n",
              "      <th>manufacturer_freq_encoded</th>\n",
              "      <th>pharmForm_freq_encoded</th>\n",
              "      <th>category_freq_encoded</th>\n",
              "    </tr>\n",
              "  </thead>\n",
              "  <tbody>\n",
              "    <tr>\n",
              "      <th>0</th>\n",
              "      <td>0</td>\n",
              "      <td>2</td>\n",
              "      <td>14.60</td>\n",
              "      <td>1</td>\n",
              "      <td>0</td>\n",
              "      <td>0</td>\n",
              "      <td>16.89</td>\n",
              "      <td>0.00</td>\n",
              "      <td>0</td>\n",
              "      <td>40</td>\n",
              "      <td>UNKNOWN</td>\n",
              "      <td>18.25</td>\n",
              "      <td>0.049838</td>\n",
              "      <td>0.148747</td>\n",
              "      <td>0.349399</td>\n",
              "      <td>0.005196</td>\n",
              "      <td>0.015102</td>\n",
              "      <td>0.003086</td>\n",
              "    </tr>\n",
              "    <tr>\n",
              "      <th>1</th>\n",
              "      <td>1</td>\n",
              "      <td>1</td>\n",
              "      <td>8.57</td>\n",
              "      <td>0</td>\n",
              "      <td>1</td>\n",
              "      <td>0</td>\n",
              "      <td>8.75</td>\n",
              "      <td>0.00</td>\n",
              "      <td>1</td>\n",
              "      <td>40</td>\n",
              "      <td>C</td>\n",
              "      <td>18.81</td>\n",
              "      <td>0.003152</td>\n",
              "      <td>0.148747</td>\n",
              "      <td>0.468656</td>\n",
              "      <td>0.046873</td>\n",
              "      <td>0.092496</td>\n",
              "      <td>0.028501</td>\n",
              "    </tr>\n",
              "    <tr>\n",
              "      <th>2</th>\n",
              "      <td>0</td>\n",
              "      <td>1</td>\n",
              "      <td>14.77</td>\n",
              "      <td>0</td>\n",
              "      <td>1</td>\n",
              "      <td>0</td>\n",
              "      <td>16.06</td>\n",
              "      <td>0.00</td>\n",
              "      <td>0</td>\n",
              "      <td>53</td>\n",
              "      <td>UNKNOWN</td>\n",
              "      <td>18.48</td>\n",
              "      <td>0.003320</td>\n",
              "      <td>0.001388</td>\n",
              "      <td>0.349399</td>\n",
              "      <td>0.012399</td>\n",
              "      <td>0.005840</td>\n",
              "      <td>0.003881</td>\n",
              "    </tr>\n",
              "    <tr>\n",
              "      <th>3</th>\n",
              "      <td>1</td>\n",
              "      <td>1</td>\n",
              "      <td>6.59</td>\n",
              "      <td>0</td>\n",
              "      <td>0</td>\n",
              "      <td>1</td>\n",
              "      <td>6.55</td>\n",
              "      <td>6.55</td>\n",
              "      <td>0</td>\n",
              "      <td>40</td>\n",
              "      <td>UNKNOWN</td>\n",
              "      <td>9.31</td>\n",
              "      <td>0.015847</td>\n",
              "      <td>0.027549</td>\n",
              "      <td>0.174535</td>\n",
              "      <td>0.044391</td>\n",
              "      <td>0.062634</td>\n",
              "      <td>0.022563</td>\n",
              "    </tr>\n",
              "    <tr>\n",
              "      <th>4</th>\n",
              "      <td>0</td>\n",
              "      <td>1</td>\n",
              "      <td>4.39</td>\n",
              "      <td>0</td>\n",
              "      <td>0</td>\n",
              "      <td>1</td>\n",
              "      <td>4.14</td>\n",
              "      <td>4.14</td>\n",
              "      <td>0</td>\n",
              "      <td>53</td>\n",
              "      <td>UNKNOWN</td>\n",
              "      <td>8.13</td>\n",
              "      <td>0.002560</td>\n",
              "      <td>0.000884</td>\n",
              "      <td>0.468656</td>\n",
              "      <td>0.009547</td>\n",
              "      <td>0.004280</td>\n",
              "      <td>0.001312</td>\n",
              "    </tr>\n",
              "    <tr>\n",
              "      <th>5</th>\n",
              "      <td>0</td>\n",
              "      <td>1</td>\n",
              "      <td>13.66</td>\n",
              "      <td>0</td>\n",
              "      <td>0</td>\n",
              "      <td>1</td>\n",
              "      <td>10.03</td>\n",
              "      <td>10.03</td>\n",
              "      <td>0</td>\n",
              "      <td>52</td>\n",
              "      <td>UNKNOWN</td>\n",
              "      <td>21.60</td>\n",
              "      <td>0.003565</td>\n",
              "      <td>0.003845</td>\n",
              "      <td>0.349399</td>\n",
              "      <td>0.009547</td>\n",
              "      <td>0.043165</td>\n",
              "      <td>0.002097</td>\n",
              "    </tr>\n",
              "    <tr>\n",
              "      <th>6</th>\n",
              "      <td>1</td>\n",
              "      <td>1</td>\n",
              "      <td>3.03</td>\n",
              "      <td>0</td>\n",
              "      <td>0</td>\n",
              "      <td>1</td>\n",
              "      <td>3.58</td>\n",
              "      <td>3.58</td>\n",
              "      <td>0</td>\n",
              "      <td>40</td>\n",
              "      <td>UNKNOWN</td>\n",
              "      <td>5.62</td>\n",
              "      <td>0.010595</td>\n",
              "      <td>0.119591</td>\n",
              "      <td>0.174535</td>\n",
              "      <td>0.056759</td>\n",
              "      <td>0.034709</td>\n",
              "      <td>0.023893</td>\n",
              "    </tr>\n",
              "    <tr>\n",
              "      <th>7</th>\n",
              "      <td>0</td>\n",
              "      <td>1</td>\n",
              "      <td>8.78</td>\n",
              "      <td>1</td>\n",
              "      <td>0</td>\n",
              "      <td>0</td>\n",
              "      <td>8.75</td>\n",
              "      <td>0.00</td>\n",
              "      <td>0</td>\n",
              "      <td>53</td>\n",
              "      <td>UNKNOWN</td>\n",
              "      <td>11.62</td>\n",
              "      <td>0.060232</td>\n",
              "      <td>0.120066</td>\n",
              "      <td>0.349399</td>\n",
              "      <td>0.019879</td>\n",
              "      <td>0.034709</td>\n",
              "      <td>0.013031</td>\n",
              "    </tr>\n",
              "    <tr>\n",
              "      <th>8</th>\n",
              "      <td>0</td>\n",
              "      <td>1</td>\n",
              "      <td>10.84</td>\n",
              "      <td>1</td>\n",
              "      <td>0</td>\n",
              "      <td>0</td>\n",
              "      <td>12.04</td>\n",
              "      <td>0.00</td>\n",
              "      <td>0</td>\n",
              "      <td>53</td>\n",
              "      <td>UNKNOWN</td>\n",
              "      <td>14.19</td>\n",
              "      <td>0.060232</td>\n",
              "      <td>0.148747</td>\n",
              "      <td>0.349399</td>\n",
              "      <td>0.000324</td>\n",
              "      <td>0.076062</td>\n",
              "      <td>0.013031</td>\n",
              "    </tr>\n",
              "    <tr>\n",
              "      <th>9</th>\n",
              "      <td>1</td>\n",
              "      <td>1</td>\n",
              "      <td>9.12</td>\n",
              "      <td>1</td>\n",
              "      <td>0</td>\n",
              "      <td>0</td>\n",
              "      <td>8.75</td>\n",
              "      <td>0.00</td>\n",
              "      <td>0</td>\n",
              "      <td>40</td>\n",
              "      <td>UNKNOWN</td>\n",
              "      <td>14.25</td>\n",
              "      <td>0.003628</td>\n",
              "      <td>0.120066</td>\n",
              "      <td>0.174535</td>\n",
              "      <td>0.002569</td>\n",
              "      <td>0.034709</td>\n",
              "      <td>0.023893</td>\n",
              "    </tr>\n",
              "  </tbody>\n",
              "</table>\n",
              "</div>\n",
              "      <button class=\"colab-df-convert\" onclick=\"convertToInteractive('df-fbc69b1c-2444-4ae5-bc88-c8e6e49bb91c')\"\n",
              "              title=\"Convert this dataframe to an interactive table.\"\n",
              "              style=\"display:none;\">\n",
              "        \n",
              "  <svg xmlns=\"http://www.w3.org/2000/svg\" height=\"24px\"viewBox=\"0 0 24 24\"\n",
              "       width=\"24px\">\n",
              "    <path d=\"M0 0h24v24H0V0z\" fill=\"none\"/>\n",
              "    <path d=\"M18.56 5.44l.94 2.06.94-2.06 2.06-.94-2.06-.94-.94-2.06-.94 2.06-2.06.94zm-11 1L8.5 8.5l.94-2.06 2.06-.94-2.06-.94L8.5 2.5l-.94 2.06-2.06.94zm10 10l.94 2.06.94-2.06 2.06-.94-2.06-.94-.94-2.06-.94 2.06-2.06.94z\"/><path d=\"M17.41 7.96l-1.37-1.37c-.4-.4-.92-.59-1.43-.59-.52 0-1.04.2-1.43.59L10.3 9.45l-7.72 7.72c-.78.78-.78 2.05 0 2.83L4 21.41c.39.39.9.59 1.41.59.51 0 1.02-.2 1.41-.59l7.78-7.78 2.81-2.81c.8-.78.8-2.07 0-2.86zM5.41 20L4 18.59l7.72-7.72 1.47 1.35L5.41 20z\"/>\n",
              "  </svg>\n",
              "      </button>\n",
              "      \n",
              "  <style>\n",
              "    .colab-df-container {\n",
              "      display:flex;\n",
              "      flex-wrap:wrap;\n",
              "      gap: 12px;\n",
              "    }\n",
              "\n",
              "    .colab-df-convert {\n",
              "      background-color: #E8F0FE;\n",
              "      border: none;\n",
              "      border-radius: 50%;\n",
              "      cursor: pointer;\n",
              "      display: none;\n",
              "      fill: #1967D2;\n",
              "      height: 32px;\n",
              "      padding: 0 0 0 0;\n",
              "      width: 32px;\n",
              "    }\n",
              "\n",
              "    .colab-df-convert:hover {\n",
              "      background-color: #E2EBFA;\n",
              "      box-shadow: 0px 1px 2px rgba(60, 64, 67, 0.3), 0px 1px 3px 1px rgba(60, 64, 67, 0.15);\n",
              "      fill: #174EA6;\n",
              "    }\n",
              "\n",
              "    [theme=dark] .colab-df-convert {\n",
              "      background-color: #3B4455;\n",
              "      fill: #D2E3FC;\n",
              "    }\n",
              "\n",
              "    [theme=dark] .colab-df-convert:hover {\n",
              "      background-color: #434B5C;\n",
              "      box-shadow: 0px 1px 3px 1px rgba(0, 0, 0, 0.15);\n",
              "      filter: drop-shadow(0px 1px 2px rgba(0, 0, 0, 0.3));\n",
              "      fill: #FFFFFF;\n",
              "    }\n",
              "  </style>\n",
              "\n",
              "      <script>\n",
              "        const buttonEl =\n",
              "          document.querySelector('#df-fbc69b1c-2444-4ae5-bc88-c8e6e49bb91c button.colab-df-convert');\n",
              "        buttonEl.style.display =\n",
              "          google.colab.kernel.accessAllowed ? 'block' : 'none';\n",
              "\n",
              "        async function convertToInteractive(key) {\n",
              "          const element = document.querySelector('#df-fbc69b1c-2444-4ae5-bc88-c8e6e49bb91c');\n",
              "          const dataTable =\n",
              "            await google.colab.kernel.invokeFunction('convertToInteractive',\n",
              "                                                     [key], {});\n",
              "          if (!dataTable) return;\n",
              "\n",
              "          const docLinkHtml = 'Like what you see? Visit the ' +\n",
              "            '<a target=\"_blank\" href=https://colab.research.google.com/notebooks/data_table.ipynb>data table notebook</a>'\n",
              "            + ' to learn more about interactive tables.';\n",
              "          element.innerHTML = '';\n",
              "          dataTable['output_type'] = 'display_data';\n",
              "          await google.colab.output.renderOutput(dataTable, element);\n",
              "          const docLink = document.createElement('div');\n",
              "          docLink.innerHTML = docLinkHtml;\n",
              "          element.appendChild(docLink);\n",
              "        }\n",
              "      </script>\n",
              "    </div>\n",
              "  </div>\n",
              "  "
            ]
          },
          "metadata": {},
          "execution_count": 5
        }
      ]
    },
    {
      "cell_type": "code",
      "source": [
        "y = train_df.pop('revenue')"
      ],
      "metadata": {
        "id": "byVtd2qGNNnk"
      },
      "execution_count": null,
      "outputs": []
    },
    {
      "cell_type": "markdown",
      "source": [
        "## Data Transformation"
      ],
      "metadata": {
        "id": "osATq9AXAomX"
      }
    },
    {
      "cell_type": "code",
      "source": [
        "from sklearn.impute import KNNImputer\n",
        "from sklearn.compose import make_column_transformer, ColumnTransformer\n",
        "from sklearn.pipeline import make_pipeline\n",
        "from sklearn.preprocessing import (RobustScaler, MinMaxScaler, \n",
        "                                   MaxAbsScaler, QuantileTransformer,\n",
        "                                   FunctionTransformer, OneHotEncoder, StandardScaler)\n",
        "from scipy.sparse import csc_matrix\n",
        "import sklearn\n",
        "sklearn.set_config(display=\"diagram\")\n",
        "\n",
        "encoded_columns = ['group_freq_encoded', 'content_freq_encoded', 'unit_freq_encoded', 'manufacturer_freq_encoded', 'pharmForm_freq_encoded', 'category_freq_encoded']\n",
        "\n",
        "ct = make_column_transformer(\n",
        "        (\n",
        "            OneHotEncoder(), \n",
        "            ['salesIndex','campaignIndex','availability']\n",
        "        ),\n",
        "        (\n",
        "          make_pipeline(KNNImputer(), RobustScaler()), ['competitorPrice']\n",
        "        ),\n",
        "        (\n",
        "          make_pipeline(RobustScaler()),\n",
        "          ['price', 'rrp']\n",
        "        ),\n",
        "        (\n",
        "        StandardScaler(),  #change scaler  #ternary,4nary\n",
        "          ['availability', 'group_freq_encoded', 'content_freq_encoded', 'unit_freq_encoded', 'manufacturer_freq_encoded', 'pharmForm_freq_encoded', 'category_freq_encoded']\n",
        "\n",
        "        ),\n",
        "    remainder=\"passthrough\"\n",
        ")\n",
        "\n"
      ],
      "metadata": {
        "id": "gnvoCpVRNYsG"
      },
      "execution_count": null,
      "outputs": []
    },
    {
      "cell_type": "code",
      "source": [
        "ct"
      ],
      "metadata": {
        "id": "FWiKFwasNbic",
        "outputId": "cebd57b6-ccb5-4173-c33d-14c6d9443bf4",
        "colab": {
          "base_uri": "https://localhost:8080/",
          "height": 152
        }
      },
      "execution_count": null,
      "outputs": [
        {
          "output_type": "execute_result",
          "data": {
            "text/plain": [
              "ColumnTransformer(remainder='passthrough',\n",
              "                  transformers=[('onehotencoder', OneHotEncoder(),\n",
              "                                 ['salesIndex', 'campaignIndex',\n",
              "                                  'availability']),\n",
              "                                ('pipeline-1',\n",
              "                                 Pipeline(steps=[('knnimputer', KNNImputer()),\n",
              "                                                 ('robustscaler',\n",
              "                                                  RobustScaler())]),\n",
              "                                 ['competitorPrice']),\n",
              "                                ('pipeline-2',\n",
              "                                 Pipeline(steps=[('robustscaler',\n",
              "                                                  RobustScaler())]),\n",
              "                                 ['price', 'rrp']),\n",
              "                                ('standardscaler', StandardScaler(),\n",
              "                                 ['availability', 'group_freq_encoded',\n",
              "                                  'content_freq_encoded', 'unit_freq_encoded',\n",
              "                                  'manufacturer_freq_encoded',\n",
              "                                  'pharmForm_freq_encoded',\n",
              "                                  'category_freq_encoded'])])"
            ],
            "text/html": [
              "<style>#sk-437ec5e5-c319-4ce5-bf05-b932f746edae {color: black;background-color: white;}#sk-437ec5e5-c319-4ce5-bf05-b932f746edae pre{padding: 0;}#sk-437ec5e5-c319-4ce5-bf05-b932f746edae div.sk-toggleable {background-color: white;}#sk-437ec5e5-c319-4ce5-bf05-b932f746edae label.sk-toggleable__label {cursor: pointer;display: block;width: 100%;margin-bottom: 0;padding: 0.3em;box-sizing: border-box;text-align: center;}#sk-437ec5e5-c319-4ce5-bf05-b932f746edae label.sk-toggleable__label-arrow:before {content: \"▸\";float: left;margin-right: 0.25em;color: #696969;}#sk-437ec5e5-c319-4ce5-bf05-b932f746edae label.sk-toggleable__label-arrow:hover:before {color: black;}#sk-437ec5e5-c319-4ce5-bf05-b932f746edae div.sk-estimator:hover label.sk-toggleable__label-arrow:before {color: black;}#sk-437ec5e5-c319-4ce5-bf05-b932f746edae div.sk-toggleable__content {max-height: 0;max-width: 0;overflow: hidden;text-align: left;background-color: #f0f8ff;}#sk-437ec5e5-c319-4ce5-bf05-b932f746edae div.sk-toggleable__content pre {margin: 0.2em;color: black;border-radius: 0.25em;background-color: #f0f8ff;}#sk-437ec5e5-c319-4ce5-bf05-b932f746edae input.sk-toggleable__control:checked~div.sk-toggleable__content {max-height: 200px;max-width: 100%;overflow: auto;}#sk-437ec5e5-c319-4ce5-bf05-b932f746edae input.sk-toggleable__control:checked~label.sk-toggleable__label-arrow:before {content: \"▾\";}#sk-437ec5e5-c319-4ce5-bf05-b932f746edae div.sk-estimator input.sk-toggleable__control:checked~label.sk-toggleable__label {background-color: #d4ebff;}#sk-437ec5e5-c319-4ce5-bf05-b932f746edae div.sk-label input.sk-toggleable__control:checked~label.sk-toggleable__label {background-color: #d4ebff;}#sk-437ec5e5-c319-4ce5-bf05-b932f746edae input.sk-hidden--visually {border: 0;clip: rect(1px 1px 1px 1px);clip: rect(1px, 1px, 1px, 1px);height: 1px;margin: -1px;overflow: hidden;padding: 0;position: absolute;width: 1px;}#sk-437ec5e5-c319-4ce5-bf05-b932f746edae div.sk-estimator {font-family: monospace;background-color: #f0f8ff;border: 1px dotted black;border-radius: 0.25em;box-sizing: border-box;margin-bottom: 0.5em;}#sk-437ec5e5-c319-4ce5-bf05-b932f746edae div.sk-estimator:hover {background-color: #d4ebff;}#sk-437ec5e5-c319-4ce5-bf05-b932f746edae div.sk-parallel-item::after {content: \"\";width: 100%;border-bottom: 1px solid gray;flex-grow: 1;}#sk-437ec5e5-c319-4ce5-bf05-b932f746edae div.sk-label:hover label.sk-toggleable__label {background-color: #d4ebff;}#sk-437ec5e5-c319-4ce5-bf05-b932f746edae div.sk-serial::before {content: \"\";position: absolute;border-left: 1px solid gray;box-sizing: border-box;top: 2em;bottom: 0;left: 50%;}#sk-437ec5e5-c319-4ce5-bf05-b932f746edae div.sk-serial {display: flex;flex-direction: column;align-items: center;background-color: white;padding-right: 0.2em;padding-left: 0.2em;}#sk-437ec5e5-c319-4ce5-bf05-b932f746edae div.sk-item {z-index: 1;}#sk-437ec5e5-c319-4ce5-bf05-b932f746edae div.sk-parallel {display: flex;align-items: stretch;justify-content: center;background-color: white;}#sk-437ec5e5-c319-4ce5-bf05-b932f746edae div.sk-parallel::before {content: \"\";position: absolute;border-left: 1px solid gray;box-sizing: border-box;top: 2em;bottom: 0;left: 50%;}#sk-437ec5e5-c319-4ce5-bf05-b932f746edae div.sk-parallel-item {display: flex;flex-direction: column;position: relative;background-color: white;}#sk-437ec5e5-c319-4ce5-bf05-b932f746edae div.sk-parallel-item:first-child::after {align-self: flex-end;width: 50%;}#sk-437ec5e5-c319-4ce5-bf05-b932f746edae div.sk-parallel-item:last-child::after {align-self: flex-start;width: 50%;}#sk-437ec5e5-c319-4ce5-bf05-b932f746edae div.sk-parallel-item:only-child::after {width: 0;}#sk-437ec5e5-c319-4ce5-bf05-b932f746edae div.sk-dashed-wrapped {border: 1px dashed gray;margin: 0 0.4em 0.5em 0.4em;box-sizing: border-box;padding-bottom: 0.4em;background-color: white;position: relative;}#sk-437ec5e5-c319-4ce5-bf05-b932f746edae div.sk-label label {font-family: monospace;font-weight: bold;background-color: white;display: inline-block;line-height: 1.2em;}#sk-437ec5e5-c319-4ce5-bf05-b932f746edae div.sk-label-container {position: relative;z-index: 2;text-align: center;}#sk-437ec5e5-c319-4ce5-bf05-b932f746edae div.sk-container {/* jupyter's `normalize.less` sets `[hidden] { display: none; }` but bootstrap.min.css set `[hidden] { display: none !important; }` so we also need the `!important` here to be able to override the default hidden behavior on the sphinx rendered scikit-learn.org. See: https://github.com/scikit-learn/scikit-learn/issues/21755 */display: inline-block !important;position: relative;}#sk-437ec5e5-c319-4ce5-bf05-b932f746edae div.sk-text-repr-fallback {display: none;}</style><div id=\"sk-437ec5e5-c319-4ce5-bf05-b932f746edae\" class=\"sk-top-container\"><div class=\"sk-text-repr-fallback\"><pre>ColumnTransformer(remainder=&#x27;passthrough&#x27;,\n",
              "                  transformers=[(&#x27;onehotencoder&#x27;, OneHotEncoder(),\n",
              "                                 [&#x27;salesIndex&#x27;, &#x27;campaignIndex&#x27;,\n",
              "                                  &#x27;availability&#x27;]),\n",
              "                                (&#x27;pipeline-1&#x27;,\n",
              "                                 Pipeline(steps=[(&#x27;knnimputer&#x27;, KNNImputer()),\n",
              "                                                 (&#x27;robustscaler&#x27;,\n",
              "                                                  RobustScaler())]),\n",
              "                                 [&#x27;competitorPrice&#x27;]),\n",
              "                                (&#x27;pipeline-2&#x27;,\n",
              "                                 Pipeline(steps=[(&#x27;robustscaler&#x27;,\n",
              "                                                  RobustScaler())]),\n",
              "                                 [&#x27;price&#x27;, &#x27;rrp&#x27;]),\n",
              "                                (&#x27;standardscaler&#x27;, StandardScaler(),\n",
              "                                 [&#x27;availability&#x27;, &#x27;group_freq_encoded&#x27;,\n",
              "                                  &#x27;content_freq_encoded&#x27;, &#x27;unit_freq_encoded&#x27;,\n",
              "                                  &#x27;manufacturer_freq_encoded&#x27;,\n",
              "                                  &#x27;pharmForm_freq_encoded&#x27;,\n",
              "                                  &#x27;category_freq_encoded&#x27;])])</pre><b>Please rerun this cell to show the HTML repr or trust the notebook.</b></div><div class=\"sk-container\" hidden><div class=\"sk-item sk-dashed-wrapped\"><div class=\"sk-label-container\"><div class=\"sk-label sk-toggleable\"><input class=\"sk-toggleable__control sk-hidden--visually\" id=\"a0b9706e-15dc-4336-9450-41bdde8827e3\" type=\"checkbox\" ><label for=\"a0b9706e-15dc-4336-9450-41bdde8827e3\" class=\"sk-toggleable__label sk-toggleable__label-arrow\">ColumnTransformer</label><div class=\"sk-toggleable__content\"><pre>ColumnTransformer(remainder=&#x27;passthrough&#x27;,\n",
              "                  transformers=[(&#x27;onehotencoder&#x27;, OneHotEncoder(),\n",
              "                                 [&#x27;salesIndex&#x27;, &#x27;campaignIndex&#x27;,\n",
              "                                  &#x27;availability&#x27;]),\n",
              "                                (&#x27;pipeline-1&#x27;,\n",
              "                                 Pipeline(steps=[(&#x27;knnimputer&#x27;, KNNImputer()),\n",
              "                                                 (&#x27;robustscaler&#x27;,\n",
              "                                                  RobustScaler())]),\n",
              "                                 [&#x27;competitorPrice&#x27;]),\n",
              "                                (&#x27;pipeline-2&#x27;,\n",
              "                                 Pipeline(steps=[(&#x27;robustscaler&#x27;,\n",
              "                                                  RobustScaler())]),\n",
              "                                 [&#x27;price&#x27;, &#x27;rrp&#x27;]),\n",
              "                                (&#x27;standardscaler&#x27;, StandardScaler(),\n",
              "                                 [&#x27;availability&#x27;, &#x27;group_freq_encoded&#x27;,\n",
              "                                  &#x27;content_freq_encoded&#x27;, &#x27;unit_freq_encoded&#x27;,\n",
              "                                  &#x27;manufacturer_freq_encoded&#x27;,\n",
              "                                  &#x27;pharmForm_freq_encoded&#x27;,\n",
              "                                  &#x27;category_freq_encoded&#x27;])])</pre></div></div></div><div class=\"sk-parallel\"><div class=\"sk-parallel-item\"><div class=\"sk-item\"><div class=\"sk-label-container\"><div class=\"sk-label sk-toggleable\"><input class=\"sk-toggleable__control sk-hidden--visually\" id=\"6027ac75-62e9-4e30-83db-4038b9994f1b\" type=\"checkbox\" ><label for=\"6027ac75-62e9-4e30-83db-4038b9994f1b\" class=\"sk-toggleable__label sk-toggleable__label-arrow\">onehotencoder</label><div class=\"sk-toggleable__content\"><pre>[&#x27;salesIndex&#x27;, &#x27;campaignIndex&#x27;, &#x27;availability&#x27;]</pre></div></div></div><div class=\"sk-serial\"><div class=\"sk-item\"><div class=\"sk-estimator sk-toggleable\"><input class=\"sk-toggleable__control sk-hidden--visually\" id=\"ebe21aca-16da-4cfe-b73f-f2a14fa81ccb\" type=\"checkbox\" ><label for=\"ebe21aca-16da-4cfe-b73f-f2a14fa81ccb\" class=\"sk-toggleable__label sk-toggleable__label-arrow\">OneHotEncoder</label><div class=\"sk-toggleable__content\"><pre>OneHotEncoder()</pre></div></div></div></div></div></div><div class=\"sk-parallel-item\"><div class=\"sk-item\"><div class=\"sk-label-container\"><div class=\"sk-label sk-toggleable\"><input class=\"sk-toggleable__control sk-hidden--visually\" id=\"27815972-fc75-4faa-8fce-7387f763cb8f\" type=\"checkbox\" ><label for=\"27815972-fc75-4faa-8fce-7387f763cb8f\" class=\"sk-toggleable__label sk-toggleable__label-arrow\">pipeline-1</label><div class=\"sk-toggleable__content\"><pre>[&#x27;competitorPrice&#x27;]</pre></div></div></div><div class=\"sk-serial\"><div class=\"sk-item\"><div class=\"sk-serial\"><div class=\"sk-item\"><div class=\"sk-estimator sk-toggleable\"><input class=\"sk-toggleable__control sk-hidden--visually\" id=\"dfb8f45c-f5eb-474e-ac91-c7a78ac83f10\" type=\"checkbox\" ><label for=\"dfb8f45c-f5eb-474e-ac91-c7a78ac83f10\" class=\"sk-toggleable__label sk-toggleable__label-arrow\">KNNImputer</label><div class=\"sk-toggleable__content\"><pre>KNNImputer()</pre></div></div></div><div class=\"sk-item\"><div class=\"sk-estimator sk-toggleable\"><input class=\"sk-toggleable__control sk-hidden--visually\" id=\"637990c6-90b2-4644-9953-e8a71b935a3e\" type=\"checkbox\" ><label for=\"637990c6-90b2-4644-9953-e8a71b935a3e\" class=\"sk-toggleable__label sk-toggleable__label-arrow\">RobustScaler</label><div class=\"sk-toggleable__content\"><pre>RobustScaler()</pre></div></div></div></div></div></div></div></div><div class=\"sk-parallel-item\"><div class=\"sk-item\"><div class=\"sk-label-container\"><div class=\"sk-label sk-toggleable\"><input class=\"sk-toggleable__control sk-hidden--visually\" id=\"9baa7580-ca77-4624-9419-b2cd1ed5c3b0\" type=\"checkbox\" ><label for=\"9baa7580-ca77-4624-9419-b2cd1ed5c3b0\" class=\"sk-toggleable__label sk-toggleable__label-arrow\">pipeline-2</label><div class=\"sk-toggleable__content\"><pre>[&#x27;price&#x27;, &#x27;rrp&#x27;]</pre></div></div></div><div class=\"sk-serial\"><div class=\"sk-item\"><div class=\"sk-serial\"><div class=\"sk-item\"><div class=\"sk-estimator sk-toggleable\"><input class=\"sk-toggleable__control sk-hidden--visually\" id=\"08dec2bd-22cd-47b3-ab96-c6412b29ebd2\" type=\"checkbox\" ><label for=\"08dec2bd-22cd-47b3-ab96-c6412b29ebd2\" class=\"sk-toggleable__label sk-toggleable__label-arrow\">RobustScaler</label><div class=\"sk-toggleable__content\"><pre>RobustScaler()</pre></div></div></div></div></div></div></div></div><div class=\"sk-parallel-item\"><div class=\"sk-item\"><div class=\"sk-label-container\"><div class=\"sk-label sk-toggleable\"><input class=\"sk-toggleable__control sk-hidden--visually\" id=\"b6014168-3515-47bb-bc46-0bad075ed312\" type=\"checkbox\" ><label for=\"b6014168-3515-47bb-bc46-0bad075ed312\" class=\"sk-toggleable__label sk-toggleable__label-arrow\">standardscaler</label><div class=\"sk-toggleable__content\"><pre>[&#x27;availability&#x27;, &#x27;group_freq_encoded&#x27;, &#x27;content_freq_encoded&#x27;, &#x27;unit_freq_encoded&#x27;, &#x27;manufacturer_freq_encoded&#x27;, &#x27;pharmForm_freq_encoded&#x27;, &#x27;category_freq_encoded&#x27;]</pre></div></div></div><div class=\"sk-serial\"><div class=\"sk-item\"><div class=\"sk-estimator sk-toggleable\"><input class=\"sk-toggleable__control sk-hidden--visually\" id=\"bb69ba5f-1c94-4530-adc1-ff9c1996772d\" type=\"checkbox\" ><label for=\"bb69ba5f-1c94-4530-adc1-ff9c1996772d\" class=\"sk-toggleable__label sk-toggleable__label-arrow\">StandardScaler</label><div class=\"sk-toggleable__content\"><pre>StandardScaler()</pre></div></div></div></div></div></div><div class=\"sk-parallel-item\"><div class=\"sk-item\"><div class=\"sk-label-container\"><div class=\"sk-label sk-toggleable\"><input class=\"sk-toggleable__control sk-hidden--visually\" id=\"ae86273a-da06-4eab-8b79-b8a3b4b77683\" type=\"checkbox\" ><label for=\"ae86273a-da06-4eab-8b79-b8a3b4b77683\" class=\"sk-toggleable__label sk-toggleable__label-arrow\">remainder</label><div class=\"sk-toggleable__content\"><pre></pre></div></div></div><div class=\"sk-serial\"><div class=\"sk-item\"><div class=\"sk-estimator sk-toggleable\"><input class=\"sk-toggleable__control sk-hidden--visually\" id=\"72240788-fe8a-43f6-8f03-177784e4e55f\" type=\"checkbox\" ><label for=\"72240788-fe8a-43f6-8f03-177784e4e55f\" class=\"sk-toggleable__label sk-toggleable__label-arrow\">passthrough</label><div class=\"sk-toggleable__content\"><pre>passthrough</pre></div></div></div></div></div></div></div></div></div></div>"
            ]
          },
          "metadata": {},
          "execution_count": 8
        }
      ]
    },
    {
      "cell_type": "code",
      "source": [
        "X = ct.fit_transform(train_df)"
      ],
      "metadata": {
        "id": "8-olAvP0Nc1C"
      },
      "execution_count": null,
      "outputs": []
    },
    {
      "cell_type": "code",
      "source": [
        "from sklearn.model_selection import train_test_split\n",
        "X_train, X_test, y_train, y_test = train_test_split(X, y, test_size=0.2, random_state=42)"
      ],
      "metadata": {
        "id": "xxKd4BT-Ne12"
      },
      "execution_count": null,
      "outputs": []
    },
    {
      "cell_type": "code",
      "source": [
        "X_train, X_val, y_train, y_val = train_test_split(X_train, y_train, test_size=0.2, random_state=42)"
      ],
      "metadata": {
        "id": "C_K3rzbQNhEd"
      },
      "execution_count": null,
      "outputs": []
    },
    {
      "cell_type": "markdown",
      "source": [
        "## Data Modelling"
      ],
      "metadata": {
        "id": "2_n_S34aNms0"
      }
    },
    {
      "cell_type": "code",
      "source": [
        "from numpy import loadtxt\n",
        "from tensorflow.keras.models import Sequential\n",
        "from tensorflow.keras.layers import Dense\n",
        "import tensorflow as tf\n",
        "from tensorflow import keras"
      ],
      "metadata": {
        "id": "q0YQ0Ys1NnND"
      },
      "execution_count": null,
      "outputs": []
    },
    {
      "cell_type": "code",
      "source": [
        "# # define the keras model\n",
        "\n",
        "model = keras.Sequential([\n",
        "keras.layers.Dense(784, kernel_initializer='normal', activation='relu'),\n",
        "keras.layers.Dense(784, kernel_initializer='normal', activation='relu'),\n",
        "keras.layers.Dense(784, kernel_initializer='normal', activation='relu'),\n",
        "keras.layers.Dense(1, kernel_initializer='normal', activation='linear')])"
      ],
      "metadata": {
        "id": "LhQvtAkHNpBg"
      },
      "execution_count": null,
      "outputs": []
    },
    {
      "cell_type": "code",
      "source": [
        "model = Sequential()\n",
        "\n",
        "# The Input Layer :\n",
        "model.add(Dense(128, kernel_initializer='normal',input_dim = X_train.shape[1], activation='relu'))\n",
        "\n",
        "# The Hidden Layers :\n",
        "model.add(Dense(256, kernel_initializer='normal',activation='relu'))\n",
        "model.add(Dense(256, kernel_initializer='normal',activation='relu'))\n",
        "model.add(Dense(256, kernel_initializer='normal',activation='relu'))\n",
        "\n",
        "# The Output Layer :\n",
        "model.add(Dense(1, kernel_initializer='normal',activation='linear'))"
      ],
      "metadata": {
        "id": "bSq7N93vNqrU"
      },
      "execution_count": null,
      "outputs": []
    },
    {
      "cell_type": "code",
      "source": [
        "# checkpoint_name = 'Weights-{epoch:03d}--{val_loss:.5f}.hdf5' \n",
        "# checkpoint = ModelCheckpoint(checkpoint_name, monitor='val_loss', verbose = 1, save_best_only = True, mode ='auto')\n",
        "# callbacks_list = [checkpoint]"
      ],
      "metadata": {
        "id": "tPyCssRGNuCu"
      },
      "execution_count": null,
      "outputs": []
    },
    {
      "cell_type": "code",
      "source": [
        "model.compile(loss='mean_absolute_error', optimizer='adam', metrics=['mean_absolute_error'])"
      ],
      "metadata": {
        "id": "N0rs8_b-NskV"
      },
      "execution_count": null,
      "outputs": []
    },
    {
      "cell_type": "code",
      "source": [
        "model.fit(X_train, y_train, epochs=20, batch_size=32, validation_split = 0.2)"
      ],
      "metadata": {
        "id": "rU_MIX4ENxik",
        "outputId": "ef00d177-ccef-400b-a471-59ecc062e5ac",
        "colab": {
          "base_uri": "https://localhost:8080/"
        }
      },
      "execution_count": null,
      "outputs": [
        {
          "output_type": "stream",
          "name": "stdout",
          "text": [
            "Epoch 1/20\n",
            "10584/10584 [==============================] - 265s 25ms/step - loss: 0.9239 - mean_absolute_error: 0.9239 - val_loss: 0.8963 - val_mean_absolute_error: 0.8963\n",
            "Epoch 2/20\n",
            "10584/10584 [==============================] - 426s 40ms/step - loss: 0.9183 - mean_absolute_error: 0.9183 - val_loss: 0.8723 - val_mean_absolute_error: 0.8723\n",
            "Epoch 3/20\n",
            "10584/10584 [==============================] - 368s 35ms/step - loss: 0.9157 - mean_absolute_error: 0.9157 - val_loss: 0.8896 - val_mean_absolute_error: 0.8896\n",
            "Epoch 4/20\n",
            "10584/10584 [==============================] - 85s 8ms/step - loss: 0.9141 - mean_absolute_error: 0.9141 - val_loss: 0.9180 - val_mean_absolute_error: 0.9180\n",
            "Epoch 5/20\n",
            "10584/10584 [==============================] - 144s 14ms/step - loss: 0.9101 - mean_absolute_error: 0.9101 - val_loss: 0.8611 - val_mean_absolute_error: 0.8611\n",
            "Epoch 6/20\n",
            "10584/10584 [==============================] - 151s 14ms/step - loss: 0.9080 - mean_absolute_error: 0.9080 - val_loss: 0.8941 - val_mean_absolute_error: 0.8941\n",
            "Epoch 7/20\n",
            "10584/10584 [==============================] - 70s 7ms/step - loss: 0.9075 - mean_absolute_error: 0.9075 - val_loss: 0.9347 - val_mean_absolute_error: 0.9347\n",
            "Epoch 8/20\n",
            "10584/10584 [==============================] - 157s 15ms/step - loss: 0.9061 - mean_absolute_error: 0.9061 - val_loss: 0.8689 - val_mean_absolute_error: 0.8689\n",
            "Epoch 9/20\n",
            "10584/10584 [==============================] - 109s 10ms/step - loss: 0.9047 - mean_absolute_error: 0.9047 - val_loss: 0.8772 - val_mean_absolute_error: 0.8772\n",
            "Epoch 10/20\n",
            "10584/10584 [==============================] - 155s 15ms/step - loss: 0.9024 - mean_absolute_error: 0.9024 - val_loss: 0.8699 - val_mean_absolute_error: 0.8699\n",
            "Epoch 11/20\n",
            "10584/10584 [==============================] - 98s 9ms/step - loss: 0.9029 - mean_absolute_error: 0.9029 - val_loss: 0.8809 - val_mean_absolute_error: 0.8809\n",
            "Epoch 12/20\n",
            "10584/10584 [==============================] - 100s 9ms/step - loss: 0.9016 - mean_absolute_error: 0.9016 - val_loss: 0.8920 - val_mean_absolute_error: 0.8920\n",
            "Epoch 13/20\n",
            "10584/10584 [==============================] - 115s 11ms/step - loss: 0.9011 - mean_absolute_error: 0.9011 - val_loss: 0.8570 - val_mean_absolute_error: 0.8570\n",
            "Epoch 14/20\n",
            "10584/10584 [==============================] - 93s 9ms/step - loss: 0.8999 - mean_absolute_error: 0.8999 - val_loss: 0.8599 - val_mean_absolute_error: 0.8599\n",
            "Epoch 15/20\n",
            "10584/10584 [==============================] - 67s 6ms/step - loss: 0.9002 - mean_absolute_error: 0.9002 - val_loss: 0.8613 - val_mean_absolute_error: 0.8613\n",
            "Epoch 16/20\n",
            "10584/10584 [==============================] - 65s 6ms/step - loss: 0.8993 - mean_absolute_error: 0.8993 - val_loss: 0.8599 - val_mean_absolute_error: 0.8599\n",
            "Epoch 17/20\n",
            "10584/10584 [==============================] - 122s 12ms/step - loss: 0.8989 - mean_absolute_error: 0.8989 - val_loss: 0.8679 - val_mean_absolute_error: 0.8679\n",
            "Epoch 18/20\n",
            "10584/10584 [==============================] - 132s 12ms/step - loss: 0.8987 - mean_absolute_error: 0.8987 - val_loss: 0.8593 - val_mean_absolute_error: 0.8593\n",
            "Epoch 19/20\n",
            "10584/10584 [==============================] - 128s 12ms/step - loss: 0.8980 - mean_absolute_error: 0.8980 - val_loss: 0.8730 - val_mean_absolute_error: 0.8730\n",
            "Epoch 20/20\n",
            "10584/10584 [==============================] - 90s 9ms/step - loss: 0.8984 - mean_absolute_error: 0.8984 - val_loss: 0.8704 - val_mean_absolute_error: 0.8704\n"
          ]
        },
        {
          "output_type": "execute_result",
          "data": {
            "text/plain": [
              "<keras.callbacks.History at 0x7fb5db473ee0>"
            ]
          },
          "metadata": {},
          "execution_count": 21
        }
      ]
    },
    {
      "cell_type": "markdown",
      "source": [
        "## Model Evaluation"
      ],
      "metadata": {
        "id": "KWviqJh7BMVx"
      }
    },
    {
      "cell_type": "code",
      "source": [
        "y_pred = model.predict(X_test)\n",
        "r2_score(y_test, y_pred)"
      ],
      "metadata": {
        "id": "ruuw28zRNy9m",
        "outputId": "5b64bd86-8aef-495e-a9ed-17d3da0bc2d8",
        "colab": {
          "base_uri": "https://localhost:8080/"
        }
      },
      "execution_count": null,
      "outputs": [
        {
          "output_type": "stream",
          "name": "stdout",
          "text": [
            "4135/4135 [==============================] - 9s 2ms/step\n"
          ]
        },
        {
          "output_type": "execute_result",
          "data": {
            "text/plain": [
              "0.7414094685490551"
            ]
          },
          "metadata": {},
          "execution_count": 22
        }
      ]
    },
    {
      "cell_type": "markdown",
      "source": [
        "Conclusion: The neural network model has given an r2 score of 74% whereas XGBRegressor is scoring 80.2% on the test data. However, it is a known fact that neural network model does not outperform the Machine Learning models on tabular datasets. Though the NN models can perform to its best with good training and architecture."
      ],
      "metadata": {
        "id": "e3Cz1o5HBR9Y"
      }
    }
  ],
  "metadata": {
    "colab": {
      "provenance": []
    },
    "kernelspec": {
      "display_name": "Python 3",
      "name": "python3"
    }
  },
  "nbformat": 4,
  "nbformat_minor": 0
}